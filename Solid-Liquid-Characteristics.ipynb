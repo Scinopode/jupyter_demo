{
 "cells": [
  {
   "cell_type": "markdown",
   "id": "a9878aa5",
   "metadata": {},
   "source": [
    "# Brooks-Corey Model\n",
    "Effective saturation as function of capillary pressure $p_\\text{cap}$:\n",
    "$$\n",
    "s_\\text{eff}=\\left(\\frac{p_\\text{b}}{p_\\text{cap}}\\right)^\\lambda\n",
    "$$\n",
    "with entry pressure $p_\\text{b}$ and exponent $\\lambda$"
   ]
  },
  {
   "cell_type": "markdown",
   "id": "1c01aaa0",
   "metadata": {},
   "source": [
    "# vanGenuchten Model\n",
    "Effective saturation as function of capillary pressure $p_\\text{cap}$:\n",
    "$$\n",
    "s_\\text{eff}=\\left[\\left(\\frac{p_\\text{cap}}{p_\\text{b}}\\right)^\\left(\\frac{1}{1-m}\\right)\\right]^\\left(-m\\right)\n",
    "$$\n",
    "with entry pressure $p_\\text{b}$ and exponent $\\lambda$"
   ]
  },
  {
   "cell_type": "markdown",
   "id": "7ea3886f",
   "metadata": {},
   "source": [
    "# Grunwald Model\n",
    "Effective saturation as function of capillary pressure $p_\\text{cap}$:\n",
    "$$\n",
    "s_\\text{eff}=1-\\left(\\frac{p_\\text{cap}}{p_\\text{max}}\\right)^\\lambda\n",
    "$$\n",
    "with maximum capillary pressure $p_\\text{max}$ and exponent $\\lambda$"
   ]
  },
  {
   "cell_type": "code",
   "execution_count": null,
   "id": "ab4913e9",
   "metadata": {},
   "outputs": [],
   "source": []
  }
 ],
 "metadata": {
  "kernelspec": {
   "display_name": "Python 3",
   "language": "python",
   "name": "python3"
  },
  "language_info": {
   "codemirror_mode": {
    "name": "ipython",
    "version": 3
   },
   "file_extension": ".py",
   "mimetype": "text/x-python",
   "name": "python",
   "nbconvert_exporter": "python",
   "pygments_lexer": "ipython3",
   "version": "3.8.5"
  }
 },
 "nbformat": 4,
 "nbformat_minor": 5
}
